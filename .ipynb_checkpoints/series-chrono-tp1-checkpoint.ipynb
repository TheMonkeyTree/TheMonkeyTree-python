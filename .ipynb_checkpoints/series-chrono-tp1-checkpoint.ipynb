{
 "cells": [
  {
   "cell_type": "code",
   "execution_count": 2,
   "id": "c7304bde-570a-45e2-b178-895e17e57871",
   "metadata": {},
   "outputs": [],
   "source": [
    "import numpy as np\n",
    "import pandas as pd\n",
    "import matplotlib.pyplot as plt"
   ]
  },
  {
   "cell_type": "markdown",
   "id": "feed8567-d598-4b4c-898a-3452d2fb1fdd",
   "metadata": {},
   "source": [
    "<h1>TP 1 - Décomposition d’une série</h1>\n",
    "<h2>Exercice 1.</h2>\n",
    "<p>Examen Avril 2017 version modifiée). Le chiffre d’affaires (enregistré le 31 décembre 2016) d’un magasin sur 3 années est donné par le tableau suivant</p>\n",
    "<table>\n",
    "   <tr>\n",
    "       <th>Trimestre/Année</th>\n",
    "       <th>2014</th>\n",
    "       <th>2015</th>\n",
    "        <th>2016</th>\n",
    "   </tr>\n",
    "   <tr>\n",
    "       <td>T1</td>\n",
    "       <td>2250</td>\n",
    "       <td>1893</td>\n",
    "        <td>2140</td>\n",
    "   </tr>\n",
    "     <tr>\n",
    "       <td>T2</td>\n",
    "       <td>2394</td>\n",
    "       <td>2067</td>\n",
    "        <td>2458</td>\n",
    "   </tr>\n",
    "     <tr>\n",
    "       <td>T3</td>\n",
    "       <td>2059</td>\n",
    "       <td>2120</td>\n",
    "        <td>2226</td>\n",
    "   </tr>\n",
    "     <tr>\n",
    "       <td>T4</td>\n",
    "       <td>4161</td>\n",
    "       <td>3936</td>\n",
    "        <td>4092</td>\n",
    "   </tr>\n",
    "</table>"
   ]
  },
  {
   "cell_type": "code",
   "execution_count": 49,
   "id": "12b04803-d767-4c90-b8a8-48619774e9e9",
   "metadata": {},
   "outputs": [
    {
     "name": "stdout",
     "output_type": "stream",
     "text": [
      "[[2250 1893 2140]\n",
      " [2394 2067 2458]\n",
      " [2059 2120 2226]\n",
      " [4161 3936 4092]]\n"
     ]
    },
    {
     "data": {
      "text/html": [
       "<div>\n",
       "<style scoped>\n",
       "    .dataframe tbody tr th:only-of-type {\n",
       "        vertical-align: middle;\n",
       "    }\n",
       "\n",
       "    .dataframe tbody tr th {\n",
       "        vertical-align: top;\n",
       "    }\n",
       "\n",
       "    .dataframe thead th {\n",
       "        text-align: right;\n",
       "    }\n",
       "</style>\n",
       "<table border=\"1\" class=\"dataframe\">\n",
       "  <thead>\n",
       "    <tr style=\"text-align: right;\">\n",
       "      <th></th>\n",
       "      <th>2014</th>\n",
       "      <th>2015</th>\n",
       "      <th>2016</th>\n",
       "    </tr>\n",
       "  </thead>\n",
       "  <tbody>\n",
       "    <tr>\n",
       "      <th>T1</th>\n",
       "      <td>2250</td>\n",
       "      <td>1893</td>\n",
       "      <td>2140</td>\n",
       "    </tr>\n",
       "    <tr>\n",
       "      <th>T2</th>\n",
       "      <td>2394</td>\n",
       "      <td>2067</td>\n",
       "      <td>2458</td>\n",
       "    </tr>\n",
       "    <tr>\n",
       "      <th>T3</th>\n",
       "      <td>2059</td>\n",
       "      <td>2120</td>\n",
       "      <td>2226</td>\n",
       "    </tr>\n",
       "    <tr>\n",
       "      <th>T4</th>\n",
       "      <td>4161</td>\n",
       "      <td>3936</td>\n",
       "      <td>4092</td>\n",
       "    </tr>\n",
       "  </tbody>\n",
       "</table>\n",
       "</div>"
      ],
      "text/plain": [
       "    2014  2015  2016\n",
       "T1  2250  1893  2140\n",
       "T2  2394  2067  2458\n",
       "T3  2059  2120  2226\n",
       "T4  4161  3936  4092"
      ]
     },
     "execution_count": 49,
     "metadata": {},
     "output_type": "execute_result"
    },
    {
     "data": {
      "image/png": "[encoded data removed]",
      "text/plain": [
       "<Figure size 432x288 with 1 Axes>"
      ]
     },
     "metadata": {
      "needs_background": "light"
     },
     "output_type": "display_data"
    }
   ],
   "source": [
    "series_chrono = np.array([2250,2394 ,2059,4161 ,1893,2067,2120,3936,2140,2458,2226,4092])\n",
    "A = series_chrono.reshape(3,4)\n",
    "A= np.transpose(A)\n",
    "print(A)\n",
    "###################################\n",
    "##  autre façon de créer la matrice à partir du vecteur \"series_chrono\": \n",
    "Y = np.zeros_like(A)\n",
    "for j in range(N): # par année\n",
    "    for i in range(r): # par trimestre\n",
    "        Y[i,j]=series_chrono[ i+ j*r]\n",
    "###################################\n",
    "\n",
    "data = pd.DataFrame(A,\n",
    "                   columns=[\"2014\",\"2015\",\"2016\"],\n",
    "                   index = ['T'+str(i+1) for i in range(4)])\n",
    "data\n",
    "graph = plt.plot(series_chrono)\n",
    "\n",
    "n=12 # nbr de valeurs\n",
    "r=4  # nbr de saison\n",
    "N=n//r # nbr d'années\n",
    "data"
   ]
  },
  {
   "cell_type": "markdown",
   "id": "02fadc24-3326-440b-bcff-1d16f2b743bf",
   "metadata": {},
   "source": [
    "<h2>Question 1</h2>\n",
    "<p>Appliquer le test de Buys-Ballot pour décider si le modèle est additif ou multiplicatif.</p>\n"
   ]
  },
  {
   "cell_type": "code",
   "execution_count": 61,
   "id": "f7567721-9717-47dc-acc2-a7786ce949cb",
   "metadata": {},
   "outputs": [],
   "source": [
    "#### test de Buys-Ballot #####\n",
    "\n",
    "## Moyenne et écart-type par année:\n",
    "mean_annuelles = np.mean(Y,axis=0)\n",
    "std_annuelles = np.std(Y,axis=0)\n"
   ]
  },
  {
   "cell_type": "code",
   "execution_count": 78,
   "id": "42d9b094",
   "metadata": {},
   "outputs": [
    {
     "name": "stdout",
     "output_type": "stream",
     "text": [
      "p-value :  0.7864322341525819\n"
     ]
    }
   ],
   "source": [
    "### Régression Linéaire simple ###\n",
    "from scipy import stats\n",
    "## linregress() renvoie un tuple avec 5 valeurs :\n",
    "#    la pente.\n",
    "#    l'ordonnée à l'origine.\n",
    "#    le coefficient de corrélation, positif ou négatif (pour avoir le coefficient de détermination R2, prendre le carré de cette valeur).\n",
    "#    la p-value.\n",
    "#    l'erreur standard de l'estimation du gradient.\n",
    "lr = stats.linregress(mean_annuelles,std_annuelles)\n",
    "slope, intercept, r_value, p_value, std_err = stats.linregress(mean_annuelles,std_annuelles)\n",
    "print(\"p-value : \",p_value)"
   ]
  },
  {
   "cell_type": "markdown",
   "id": "7e893625",
   "metadata": {},
   "source": [
    "<h3>Test de Buys-Ballot</h3>\n",
    "<p>Permet d'estimer si le modèle est multiplicatif ou additif.</p>\n",
    "<p>On effectue la régression des écart-types sur les moyennes : </p>\n",
    "$$\n",
    "\\sigma_j = b_1 +b_2 m_j +\\epsilon_j;\\quad j\\leq N\n",
    "$$\n",
    "Si le coefficient $b_2$ est significatif ( $p-value<0.05$) Alors on décide que le modèle est multiplicatif sinon il est additif. </p>\n"
   ]
  },
  {
   "cell_type": "markdown",
   "id": "791dde0b",
   "metadata": {},
   "source": [
    "<hr>\n",
    "<p>Ici la p-value est fortement supérieur à $0.05$ nous décidons donc de travailler sur le modèle additif. Cela se verifie sur le graphique qui ne présente pas une croissance particulière.</p>\n",
    "<hr>"
   ]
  },
  {
   "cell_type": "markdown",
   "id": "34e0c6c0-54d1-44d6-9c69-764f096c6ae2",
   "metadata": {},
   "source": [
    "<h2>Question 2</h2>\n",
    "<p>Pour modéliser cette chronique (que l’on note par $x_t$ ) on propose le modèle suivant \n",
    "$$X_t = m_t+S_t+\\epsilon_t;\\quad t\\in \\{1,...,T\\}$$\n",
    "$m_t$ est la tendance<br>\n",
    "$S_t$ est la composante saisonnière<br>\n",
    "La moyenne empirique de la chronique est donnée par :\n",
    "    $$\n",
    "    \\overline{X}_T = \\frac{1}{T}\\sum_{t=1}^{T}X_t = 2649.67\n",
    "    $$\n",
    "</p>\n",
    "<p>Montrer que $m_t=m$<br>\n",
    "i.e. : la chronique est stable</p>"
   ]
  },
  {
   "cell_type": "code",
   "execution_count": 83,
   "id": "414d2ca1-7411-4af3-82c3-e1acb370058e",
   "metadata": {},
   "outputs": [
    {
     "name": "stdout",
     "output_type": "stream",
     "text": [
      "p-value :  0.421312584264679\n"
     ]
    }
   ],
   "source": [
    "np.mean(Y)\n",
    "\n",
    "### Régression linéaire simple\n",
    "slope, intercept, r_value, p_value, std_err =stats.linregress(range(n),series_chrono)\n",
    "print(\"p-value : \",p_value)"
   ]
  },
  {
   "cell_type": "markdown",
   "id": "40c5cedf",
   "metadata": {},
   "source": [
    "<h3>Identification de la tendance</h3>\n",
    "<p>On si limite, ici, à identifier une tendance linéaire de la forme :\n",
    "$$\n",
    "m_t = b_1+b_2t\n",
    "$$\n",
    "</p>\n",
    "<p>On effectue la régression linéaire suivante :\n",
    "$$\n",
    "X_t = b_1+b_2t + B_t;\\quad t\\in\\{1,...,N\\}\n",
    "$$\n",
    "</p>\n",
    "<p>Si la p-value associée à $b_2$ est inférieure à $0.05$ alors la tendance est significative, c'est à dire que la chronique croît ($b_2>0$) et décroît ($b_2<0$) avec le temps.</p>\n",
    "<ul>\n",
    "    <li>Si la tendance est significative on prend :\n",
    "    $$\n",
    "    m_t = \\hat{b_1}+\\hat{b_2}t\n",
    "    $$\n",
    "        avec $\\hat{b_i}$  estimateur de $b_i$.\n",
    "    </li>\n",
    "    <li>Si la tendance n'est pas significative, on prend:\n",
    "    $$\n",
    "    m_t=\\overline{X} = \\frac{1}{n}\\sum_{t=1}^{n}X_t\n",
    "    $$\n",
    "    </li>\n",
    "</ul>\n"
   ]
  },
  {
   "cell_type": "markdown",
   "id": "ed44e67c",
   "metadata": {},
   "source": [
    "<hr>\n",
    "<p>Ici la p-value est fortement supérieure à $0.05$, la tendance n'est pas significative.</p>\n",
    "<hr>"
   ]
  },
  {
   "cell_type": "markdown",
   "id": "10053b78-afa8-40de-9798-93746ce76632",
   "metadata": {},
   "source": [
    "<h2>Question 3</h2>\n",
    "<p>On se propose de modéliser la composante saisonnière par la méthode des moyennes saisonnières.<br>\n",
    "Pour calculer les coefficients saisoniers, on se base sur la série $X_t$ (et non pas sur la série $W_t = X_t − m_t$ ).<br>\n",
    "Le tableau suivant donne les trois premiers coefficients saisoniers avant normalisation :\n",
    "    <table>\n",
    "   <tr>\n",
    "       <th>$S_1'$</th>\n",
    "       <th>$S_2'$</th>\n",
    "       <th>$S_3'$</th>\n",
    "        <th>$S_4'$</th>\n",
    "   </tr>\n",
    "   <tr>\n",
    "       <td>2094.33</td>\n",
    "       <td>2306.33</td>\n",
    "       <td>2135</td>\n",
    "        <td></td>\n",
    "   </tr>\n",
    "</table>\n",
    "    Calculer $S_4'$ et puis les coefficients saisonniers normalisés $S_i, i = 1, .., 4$.\n",
    "    </p>"
   ]
  },
  {
   "cell_type": "code",
   "execution_count": 176,
   "id": "482718d1-0279-48e8-9e8b-d4cdb2c58b09",
   "metadata": {},
   "outputs": [
    {
     "name": "stdout",
     "output_type": "stream",
     "text": [
      "Moyennes trimestrielles :  [2094.33333333 2306.33333333 2135.         4063.        ]\n"
     ]
    }
   ],
   "source": [
    "S = np.mean(Y,axis=1)\n",
    "print(\"Moyennes trimestrielles : \",S)"
   ]
  },
  {
   "cell_type": "markdown",
   "id": "79c6dd15",
   "metadata": {},
   "source": [
    "<p><strong>Rappel</strong>, on doit avoir : \n",
    "        $$\n",
    "        \\sum_{i=1}S_i=0\n",
    "        $$\n",
    "        </p>"
   ]
  },
  {
   "cell_type": "code",
   "execution_count": 205,
   "id": "5cb70100",
   "metadata": {},
   "outputs": [
    {
     "name": "stdout",
     "output_type": "stream",
     "text": [
      "Moyennes trimestrielles centrées:  [-555.33333333 -343.33333333 -514.66666667 1413.33333333]\n"
     ]
    },
    {
     "data": {
      "image/png": "[encoded data removed]",
      "text/plain": [
       "<Figure size 432x288 with 1 Axes>"
      ]
     },
     "metadata": {
      "needs_background": "light"
     },
     "output_type": "display_data"
    }
   ],
   "source": [
    "s = np.mean(Y,axis=1)\n",
    "s=s-np.mean(S)\n",
    "print(\"Moyennes trimestrielles centrées: \",s)\n",
    "\n",
    "# affichage graphique\n",
    "S = np.ones((3,1)) * s\n",
    "S=S.reshape(12,1)\n",
    "plt.plot(S)\n",
    "plt.title('composante saisonnière')\n",
    "plt.show()"
   ]
  },
  {
   "cell_type": "code",
   "execution_count": null,
   "id": "156f1e4d",
   "metadata": {},
   "outputs": [],
   "source": []
  },
  {
   "cell_type": "markdown",
   "id": "7dc5de88-1227-4146-8324-710a00f951ab",
   "metadata": {},
   "source": [
    "<h2>Question 4</h2>\n",
    "<p>Montrer que si on se base sur la série $W_t = X_t − m_t$ pour calculer les coefficients saisoniers alors ceux-ci sont automatiquement normalisés.</p>"
   ]
  },
  {
   "cell_type": "code",
   "execution_count": 202,
   "id": "0e2dbc93-8bd5-469e-864b-7d5d6610dc12",
   "metadata": {},
   "outputs": [
    {
     "data": {
      "text/plain": [
       "31796.0"
      ]
     },
     "execution_count": 202,
     "metadata": {},
     "output_type": "execute_result"
    }
   ],
   "source": [
    "sum(w)"
   ]
  },
  {
   "cell_type": "code",
   "execution_count": null,
   "id": "fd943fde",
   "metadata": {},
   "outputs": [],
   "source": []
  },
  {
   "cell_type": "markdown",
   "id": "d58f9b08",
   "metadata": {},
   "source": [
    "<h2>Question 5</h2>\n",
    "<p>5. Donner une prévision du chiffre d’affaires pour les quatre trimestres de l’année 2017.</p>"
   ]
  },
  {
   "cell_type": "code",
   "execution_count": 211,
   "id": "e74c1bce",
   "metadata": {},
   "outputs": [
    {
     "name": "stdout",
     "output_type": "stream",
     "text": [
      "           2017\n",
      "T1  2094.333333\n",
      "T2  2306.333333\n",
      "T3  2135.000000\n",
      "T4  4063.000000\n"
     ]
    },
    {
     "data": {
      "text/plain": [
       "[<matplotlib.lines.Line2D at 0x229ebab69d0>]"
      ]
     },
     "execution_count": 211,
     "metadata": {},
     "output_type": "execute_result"
    },
    {
     "data": {
      "image/png": "[encoded data removed]",
      "text/plain": [
       "<Figure size 432x288 with 1 Axes>"
      ]
     },
     "metadata": {
      "needs_background": "light"
     },
     "output_type": "display_data"
    }
   ],
   "source": [
    "moy = np.mean(Y)\n",
    "prev=s+moy\n",
    "data_prev = pd.DataFrame(prev,\n",
    "                         columns=[\"2017\"],\n",
    "                         index = ['T'+str(i+1) for i in range(4)])\n",
    "print(data_prev)\n",
    "plt.plot(prev)"
   ]
  }
 ],
 "metadata": {
  "kernelspec": {
   "display_name": "Python 3 (ipykernel)",
   "language": "python",
   "name": "python3"
  },
  "language_info": {
   "codemirror_mode": {
    "name": "ipython",
    "version": 3
   },
   "file_extension": ".py",
   "mimetype": "text/x-python",
   "name": "python",
   "nbconvert_exporter": "python",
   "pygments_lexer": "ipython3",
   "version": "3.9.7"
  }
 },
 "nbformat": 4,
 "nbformat_minor": 5
}
